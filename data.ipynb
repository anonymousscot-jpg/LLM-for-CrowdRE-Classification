{
 "cells": [
  {
   "cell_type": "code",
   "execution_count": 2,
   "id": "d7ddf844",
   "metadata": {},
   "outputs": [],
   "source": [
    "import nltk\n",
    "import numpy as np\n",
    "import pandas as pd"
   ]
  },
  {
   "cell_type": "code",
   "execution_count": null,
   "id": "ae64237c",
   "metadata": {},
   "outputs": [],
   "source": [
    "data = pd.read_csv(\"requirements.csv\") # Repalce with your file path\n",
    "data['requirements'] = data['feature']+ \", \" + data['benefit'] + '.'\n",
    "df = pd.DataFrame(list(zip(data['requirements'], data['application_domain'])),columns = ['requirements','class'])\n",
    "# d['n_class'] = d['class']\n",
    "# # replacing values\n",
    "# d['n_class'].replace(['Health', 'Energy', 'Entertainment', 'Safety', 'Other'],[0,1,2,3,4], inplace=True)\n",
    "# labels = d['n_class']\n",
    "# namelabels = data['application_domain']\n",
    "\n",
    "# merged_label = []\n",
    "# for r in labels:\n",
    "#     if r == 4:\n",
    "#         merged_label.append(0)\n",
    "#     else:\n",
    "#         merged_label.append(r)\n"
   ]
  },
  {
   "cell_type": "code",
   "execution_count": null,
   "id": "2b080f9e",
   "metadata": {},
   "outputs": [],
   "source": [
    "print(data.to_markdown())"
   ]
  },
  {
   "cell_type": "code",
   "execution_count": 17,
   "id": "54d4a064",
   "metadata": {},
   "outputs": [],
   "source": [
    "data.to_csv(\"requirements_merged.csv\", index=False)\n",
    "df.to_csv(\"requirements_merged_cleaned.csv\", index=False)"
   ]
  },
  {
   "cell_type": "code",
   "execution_count": null,
   "id": "570342d6",
   "metadata": {},
   "outputs": [],
   "source": [
    "# Count the number of requirements per domain\n",
    "domain_counts = data['application_domain'].value_counts().reset_index()\n",
    "domain_counts.columns = ['Domain', 'Number of Requirements']\n",
    "domain_counts\n"
   ]
  },
  {
   "cell_type": "code",
   "execution_count": null,
   "id": "f5450cd4",
   "metadata": {},
   "outputs": [],
   "source": [
    "import pandas as pd\n",
    "import os\n",
    "\n",
    "# Load the CSV\n",
    "file_path = \"\" # Replace with your file path\n",
    "df = pd.read_csv(file_path)\n",
    "\n",
    "# Define clustering groups and sample sizes\n",
    "binary_clusters = [\n",
    "    ('Energy', 'Entertainment'), ('Energy', 'Safety'), ('Entertainment', 'Safety'),\n",
    "    ('Health', 'Entertainment'), ('Health', 'Safety'), ('Health', 'Energy'),\n",
    "    ('Energy', 'Other'), ('Entertainment', 'Other'), ('Safety', 'Other'), ('Health', 'Other')\n",
    "]\n",
    "tertiary_clusters = [\n",
    "    ('Energy', 'Entertainment', 'Safety'), ('Health', 'Entertainment', 'Safety'),\n",
    "    ('Health', 'Energy', 'Entertainment'), ('Health', 'Energy', 'Safety'),\n",
    "    ('Energy', 'Entertainment', 'Other'), ('Energy', 'Safety', 'Other'),\n",
    "    ('Entertainment', 'Safety', 'Other'), ('Health', 'Safety', 'Other'),\n",
    "    ('Health', 'Energy', 'Other'), ('Health', 'Entertainment', 'Other')\n",
    "]\n",
    "quaternary_clusters = [\n",
    "    ('Health', 'Energy', 'Entertainment', 'Safety'),\n",
    "    ('Energy', 'Entertainment', 'Safety', 'Other'),\n",
    "    ('Health', 'Energy', 'Safety', 'Other'),\n",
    "    ('Health', 'Entertainment', 'Safety', 'Other'),\n",
    "    ('Health', 'Energy', 'Entertainment', 'Other')\n",
    "]\n",
    "quinary_cluster = ['Health', 'Energy', 'Entertainment', 'Safety', 'Other']\n",
    "\n",
    "# Sample sizes per domain for each clustering level\n",
    "n_binary = 150\n",
    "n_tertiary = 100\n",
    "n_quaternary = 75\n",
    "n_quinary = 60\n",
    "\n",
    "# Directory to save datasets\n",
    "output_dir = \"\" # Replace with your desired output directory\n",
    "os.makedirs(output_dir, exist_ok=True)\n",
    "\n",
    "# Sampling function allowing overlap across clusters\n",
    "def sample_cluster(domains, n_per_domain, random_state=42):\n",
    "    sampled_parts = []\n",
    "    for domain in domains:\n",
    "        df_domain = df[df['application_domain'] == domain]\n",
    "        # If available less than required, sample with replacement; else without replacement\n",
    "        replace = len(df_domain) < n_per_domain\n",
    "        sampled = df_domain.sample(n=n_per_domain, replace=replace, random_state=random_state)\n",
    "        sampled_parts.append(sampled)\n",
    "    # Combine samples from different domains\n",
    "    combined = pd.concat(sampled_parts).reset_index(drop=True)\n",
    "    return combined\n",
    "\n",
    "# Save helper\n",
    "def save_datasets(datasets, cluster_type, domain_groups):\n",
    "    saved_paths = []\n",
    "    for domains, dataset in zip(domain_groups, datasets):\n",
    "        filename = f\"{cluster_type}_cluster_{'_'.join(domains)}.csv\"\n",
    "        path = os.path.join(output_dir, filename)\n",
    "        dataset.to_csv(path, index=False)\n",
    "        saved_paths.append(path)\n",
    "    return saved_paths\n",
    "\n",
    "# Generate and save binary clusters\n",
    "binary_datasets = [sample_cluster(pair, n_binary) for pair in binary_clusters]\n",
    "binary_paths = save_datasets(binary_datasets, \"binary\", binary_clusters)\n",
    "\n",
    "# Generate and save tertiary clusters\n",
    "tertiary_datasets = [sample_cluster(triplet, n_tertiary) for triplet in tertiary_clusters]\n",
    "tertiary_paths = save_datasets(tertiary_datasets, \"tertiary\", tertiary_clusters)\n",
    "\n",
    "# Generate and save quaternary clusters\n",
    "quaternary_datasets = [sample_cluster(quad, n_quaternary) for quad in quaternary_clusters]\n",
    "quaternary_paths = save_datasets(quaternary_datasets, \"quaternary\", quaternary_clusters)\n",
    "\n",
    "# Generate and save quinary cluster\n",
    "quinary_dataset = sample_cluster(quinary_cluster, n_quinary)\n",
    "quinary_path = os.path.join(output_dir, \"quinary_cluster_health_energy_entertainment_safety_other.csv\")\n",
    "quinary_dataset.to_csv(quinary_path, index=False)\n",
    "\n",
    "# Return sample saved paths\n",
    "binary_paths[:2] + tertiary_paths[:2] + quaternary_paths[:2] + [quinary_path]\n",
    "\n"
   ]
  }
 ],
 "metadata": {
  "kernelspec": {
   "display_name": "tf_env",
   "language": "python",
   "name": "python3"
  },
  "language_info": {
   "codemirror_mode": {
    "name": "ipython",
    "version": 3
   },
   "file_extension": ".py",
   "mimetype": "text/x-python",
   "name": "python",
   "nbconvert_exporter": "python",
   "pygments_lexer": "ipython3",
   "version": "3.12.9"
  }
 },
 "nbformat": 4,
 "nbformat_minor": 5
}
